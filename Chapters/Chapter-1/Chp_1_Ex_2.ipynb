{
  "nbformat": 4,
  "nbformat_minor": 0,
  "metadata": {
    "colab": {
      "provenance": []
    },
    "kernelspec": {
      "name": "python3",
      "display_name": "Python 3"
    },
    "language_info": {
      "name": "python"
    }
  },
  "cells": [
    {
      "cell_type": "markdown",
      "source": [
        "Chapter 1; Exercise:2:\n",
        "Print the Version of Python Write a Python program to get the Python version you are using."
      ],
      "metadata": {
        "id": "eytZWQDz1-j-"
      }
    },
    {
      "cell_type": "code",
      "execution_count": null,
      "metadata": {
        "colab": {
          "base_uri": "https://localhost:8080/"
        },
        "id": "RoX0ZyMw14rc",
        "outputId": "7f2413db-cbc9-437c-cb52-12e066c99267"
      },
      "outputs": [
        {
          "output_type": "stream",
          "name": "stdout",
          "text": [
            "Python version\n",
            "3.7.15 (default, Oct 12 2022, 19:14:55) \n",
            "[GCC 7.5.0]\n",
            "version info.\n",
            "sys.version_info(major=3, minor=7, micro=15, releaselevel='final', serial=0)\n"
          ]
        }
      ],
      "source": [
        "import sys\n",
        "print(\"Python version\") #version of python\n",
        "print(sys.version)\n",
        "\n",
        "print(\"version info.\") #printing the versin of python you are using\n",
        "print(sys.version_info)\n"
      ]
    }
  ]
}