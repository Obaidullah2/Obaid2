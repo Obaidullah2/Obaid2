{
  "nbformat": 4,
  "nbformat_minor": 0,
  "metadata": {
    "colab": {
      "provenance": []
    },
    "kernelspec": {
      "name": "python3",
      "display_name": "Python 3"
    },
    "language_info": {
      "name": "python"
    }
  },
  "cells": [
    {
      "cell_type": "markdown",
      "source": [
        "Chapter 1; Exercise:3:Print date and Time Write a Python program to display the current date and time."
      ],
      "metadata": {
        "id": "5aMPpg3u2xjq"
      }
    },
    {
      "cell_type": "code",
      "execution_count": null,
      "metadata": {
        "colab": {
          "base_uri": "https://localhost:8080/"
        },
        "id": "0bWsgBRG2twb",
        "outputId": "a25aa5ae-e384-4fd2-d279-d0713b3d9faf"
      },
      "outputs": [
        {
          "output_type": "stream",
          "name": "stdout",
          "text": [
            "today's date: 2022-11-05\n",
            "d1= 05/11/2022\n",
            "now= 2022-11-05 08:16:37.392178\n"
          ]
        }
      ],
      "source": [
        "from datetime import date\n",
        "today=date.today()\n",
        "print(\"today's date:\", today)\n",
        "\n",
        "from datetime import date\n",
        "today=date.today()\n",
        "#dd/mm/YY\n",
        "d1=today.strftime(\"%d/%m/%Y\")\n",
        "print(\"d1=\", d1)\n",
        "\n",
        "#textual month,day and year\n",
        "d2=today\n",
        "\n",
        "from datetime import datetime\n",
        "#datatime object containing current date and time\n",
        "now=datetime.now()\n",
        "\n",
        "print(\"now=\", now)\n",
        "#dd/mm/yy H:M:S\n",
        "dt_string=now\n"
      ]
    }
  ]
}