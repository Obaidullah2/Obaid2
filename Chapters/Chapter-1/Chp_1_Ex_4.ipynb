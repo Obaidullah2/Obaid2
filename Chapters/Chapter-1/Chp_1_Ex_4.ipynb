{
  "nbformat": 4,
  "nbformat_minor": 0,
  "metadata": {
    "colab": {
      "provenance": []
    },
    "kernelspec": {
      "name": "python3",
      "display_name": "Python 3"
    },
    "language_info": {
      "name": "python"
    }
  },
  "cells": [
    {
      "cell_type": "markdown",
      "source": [
        "Chapter 1; Exercise:4:Strings Concatination Write three strings in different variables and print the output as one string."
      ],
      "metadata": {
        "id": "23xME3Uw3ZJ-"
      }
    },
    {
      "cell_type": "code",
      "execution_count": null,
      "metadata": {
        "colab": {
          "base_uri": "https://localhost:8080/"
        },
        "id": "V64Relh43YrZ",
        "outputId": "ec422e64-d263-4c2d-de4a-9e9c8205315e"
      },
      "outputs": [
        {
          "output_type": "stream",
          "name": "stdout",
          "text": [
            "Hello Everyone, How are you all? , I hope you are doing well, My Name is Obaidullah.\n"
          ]
        }
      ],
      "source": [
        "a=\"Hello Everyone, \"\n",
        "b=\"How are you all? , I hope you are doing well, \"\n",
        "c=\"My Name is Obaidullah.\" #print 3 strings variable as one string\n",
        "print(a+b+c) #output statement"
      ]
    }
  ]
}