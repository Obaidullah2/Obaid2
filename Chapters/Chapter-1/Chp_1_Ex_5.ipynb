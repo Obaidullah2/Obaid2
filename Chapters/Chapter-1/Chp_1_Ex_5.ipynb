{
  "nbformat": 4,
  "nbformat_minor": 0,
  "metadata": {
    "colab": {
      "provenance": []
    },
    "kernelspec": {
      "name": "python3",
      "display_name": "Python 3"
    },
    "language_info": {
      "name": "python"
    }
  },
  "cells": [
    {
      "cell_type": "markdown",
      "source": [
        "Chapter 1; Exercise:5:Compute area of Circle Write a Python program which accepts the radius of a circle from the user and compute the area."
      ],
      "metadata": {
        "id": "31BqnivG39--"
      }
    },
    {
      "cell_type": "code",
      "execution_count": null,
      "metadata": {
        "colab": {
          "base_uri": "https://localhost:8080/"
        },
        "id": "d-KA7o2Q37Ov",
        "outputId": "a19af358-515a-48f0-e0f2-34c3be5d0bbc"
      },
      "outputs": [
        {
          "output_type": "stream",
          "name": "stdout",
          "text": [
            "Enter the radius of the circle = \n",
            "6\n",
            "The area of the circle with radius 6.0units is 113.03999999999999sq.units\n"
          ]
        }
      ],
      "source": [
        "print('Enter the radius of the circle = ')  #VALUE TAKEN FROM THE USER\n",
        "radius = float(input())\n",
        "pi = 3.14                                                                 \n",
        "area = pi * radius * radius  # calcultaion\n",
        "\n",
        "#AREA OF CIRCLE WITH RADIUS\n",
        "print('The area of the circle with radius ' +\n",
        "      str(radius) +'units is '+ str(area) + 'sq.units')"
      ]
    }
  ]
}