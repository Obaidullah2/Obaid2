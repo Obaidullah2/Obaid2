{
  "nbformat": 4,
  "nbformat_minor": 0,
  "metadata": {
    "colab": {
      "provenance": []
    },
    "kernelspec": {
      "name": "python3",
      "display_name": "Python 3"
    },
    "language_info": {
      "name": "python"
    }
  },
  "cells": [
    {
      "cell_type": "markdown",
      "source": [
        "CHAPTER 2: VARIABLES AND COMMENTS."
      ],
      "metadata": {
        "id": "l8y0GCQYBKtU"
      }
    },
    {
      "cell_type": "markdown",
      "source": [
        "(EXERCISE 1):Assign a message to a variable, and print that message. Then change the value of the variable to a new message, and print the new message"
      ],
      "metadata": {
        "id": "Ha2osOrXCKNA"
      }
    },
    {
      "cell_type": "code",
      "execution_count": null,
      "metadata": {
        "colab": {
          "base_uri": "https://localhost:8080/"
        },
        "id": "TLAVI4Ta-sMR",
        "outputId": "1f49f1e2-1d0a-49fb-a660-12d88ec04a93"
      },
      "outputs": [
        {
          "output_type": "stream",
          "name": "stdout",
          "text": [
            "Hey there, The python programming language is one of the easiest languages.\n",
            "It is also the most popular programming language.\n"
          ]
        }
      ],
      "source": [
        "message = 'Hey there, The python programming language is one of the easiest languages.'  # the first message is\n",
        "print(message)\n",
        "\n",
        "message = 'It is also the most popular programming language.' # the second message is\n",
        "print(message)"
      ]
    }
  ]
}