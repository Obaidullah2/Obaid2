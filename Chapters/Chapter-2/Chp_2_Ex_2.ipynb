{
  "nbformat": 4,
  "nbformat_minor": 0,
  "metadata": {
    "colab": {
      "provenance": []
    },
    "kernelspec": {
      "name": "python3",
      "display_name": "Python 3"
    },
    "language_info": {
      "name": "python"
    }
  },
  "cells": [
    {
      "cell_type": "markdown",
      "source": [
        "Chapter 2; EX.2"
      ],
      "metadata": {
        "id": "ryskR5juDXSE"
      }
    },
    {
      "cell_type": "markdown",
      "source": [
        "Exercise 2: Variables Find a quote from a famous person you admire. Print the quote and the name of its author."
      ],
      "metadata": {
        "id": "bi_YuK-8Dnmi"
      }
    },
    {
      "cell_type": "code",
      "execution_count": null,
      "metadata": {
        "colab": {
          "base_uri": "https://localhost:8080/"
        },
        "id": "hmrz65n9C_j9",
        "outputId": "6f70c5cd-b6b8-45e5-81d6-4a521c29a795"
      },
      "outputs": [
        {
          "output_type": "stream",
          "name": "stdout",
          "text": [
            "Lao TZU famous quote. He said, \"The journey of a thousand miles begins with one step.\"\n"
          ]
        }
      ],
      "source": [
        "# saving my favorite quote in a variable named quote\n",
        "quote = '\"The journey of a thousand miles begins with one step.\"'\n",
        "\n",
        "# printing  quote using print() statement\n",
        "print('Lao TZU famous quote. He said, ' + str(quote))"
      ]
    }
  ]
}