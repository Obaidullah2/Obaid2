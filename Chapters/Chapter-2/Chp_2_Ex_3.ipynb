{
  "nbformat": 4,
  "nbformat_minor": 0,
  "metadata": {
    "colab": {
      "provenance": []
    },
    "kernelspec": {
      "name": "python3",
      "display_name": "Python 3"
    },
    "language_info": {
      "name": "python"
    }
  },
  "cells": [
    {
      "cell_type": "markdown",
      "source": [
        "Chapter 2; EX.3"
      ],
      "metadata": {
        "id": "yo2jta2mFXZh"
      }
    },
    {
      "cell_type": "markdown",
      "source": [
        "Exercise 3: Stripping Names \n",
        "Tidy up the code to make it easier to understand\n",
        "\n",
        "Use a variable to represent a person’s name, and include some whitespace characters at the beginning and end of the name. Make sure you use each character combination, “\\t” and “\\n”, at least once.\n",
        "\n",
        "Print the name once, so the whitespace around the name is displayed.\n",
        "\n",
        "Then print the name using each of the three stripping functions, lstrip(), rstrip(), and strip()."
      ],
      "metadata": {
        "id": "P_fWha5AFXL4"
      }
    },
    {
      "cell_type": "code",
      "execution_count": null,
      "metadata": {
        "colab": {
          "base_uri": "https://localhost:8080/"
        },
        "id": "IKgsc_EZFU1j",
        "outputId": "4ef2233f-489e-4d5e-b9dc-ef43fed97a6a"
      },
      "outputs": [
        {
          "output_type": "stream",
          "name": "stdout",
          "text": [
            "                 Python\n",
            "Python\n",
            "Python                     is cool\n",
            "Python                     is cool\n",
            "               Nice work             \n",
            "Nice work\n",
            "my neighbours in Dubai: \n",
            " Adil \n",
            " Ayyan \n",
            " Ali \n",
            " Ayesha\n",
            "The biggest mosque in the world is \t Masjid Al Haram \n"
          ]
        }
      ],
      "source": [
        "# using lstrip()\n",
        "\n",
        "word_1 = '                 Python'\n",
        "new_word_1 = word_1.lstrip()\n",
        "print(word_1)\n",
        "print(new_word_1)\n",
        "\n",
        "# using rstrip()\n",
        "\n",
        "word_2 = 'Python                     is cool'\n",
        "new_word_2 = word_2.rstrip()\n",
        "print(word_2)\n",
        "print(new_word_2)\n",
        "\n",
        "# using strip()\n",
        "\n",
        "word_3 = '               Nice work             '\n",
        "new_word_3 = word_3.strip()\n",
        "print(word_3)\n",
        "print(new_word_3)\n",
        "\n",
        "# using \\n\n",
        "\n",
        "print('my neighbours in Dubai: \\n Adil \\n Ayyan \\n Ali \\n Ayesha')\n",
        "\n",
        "# using \\t\n",
        "\n",
        "print('The biggest mosque in the world is \\t Masjid Al Haram ')"
      ]
    }
  ]
}