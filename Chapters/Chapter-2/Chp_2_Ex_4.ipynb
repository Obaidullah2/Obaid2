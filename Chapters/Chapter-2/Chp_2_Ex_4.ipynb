{
  "nbformat": 4,
  "nbformat_minor": 0,
  "metadata": {
    "colab": {
      "provenance": []
    },
    "kernelspec": {
      "name": "python3",
      "display_name": "Python 3"
    },
    "language_info": {
      "name": "python"
    }
  },
  "cells": [
    {
      "cell_type": "markdown",
      "source": [
        "Chapter 2; EX.4"
      ],
      "metadata": {
        "id": "Y9b8GM_2HIrk"
      }
    },
    {
      "cell_type": "markdown",
      "source": [
        "Exercise 4: Favorite Number \n",
        "Use a variable to represent your favorite number. Then,using that variable, create a message that reveals your favorite number. Print that message."
      ],
      "metadata": {
        "id": "nxBorFoaHIn2"
      }
    },
    {
      "cell_type": "code",
      "execution_count": null,
      "metadata": {
        "colab": {
          "base_uri": "https://localhost:8080/"
        },
        "id": "-jQCpYPXG3GY",
        "outputId": "eb35b24b-f145-420b-97ba-79c3edc4c443"
      },
      "outputs": [
        {
          "output_type": "stream",
          "name": "stdout",
          "text": [
            "Enter your favorite number = \n",
            "22\n",
            "Your favorite number is 22\n"
          ]
        }
      ],
      "source": [
        "print('Enter your favorite number = ')  # Asking  user for a number\n",
        "fav_num = int(input())\n",
        "\n",
        "print('Your favorite number is ' + str(fav_num)) # prints the number and sends a message "
      ]
    }
  ]
}