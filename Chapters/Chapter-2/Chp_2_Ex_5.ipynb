{
  "nbformat": 4,
  "nbformat_minor": 0,
  "metadata": {
    "colab": {
      "provenance": []
    },
    "kernelspec": {
      "name": "python3",
      "display_name": "Python 3"
    },
    "language_info": {
      "name": "python"
    }
  },
  "cells": [
    {
      "cell_type": "markdown",
      "source": [
        "Chapter 2; EX.5"
      ],
      "metadata": {
        "id": "J6kOMfOgH1YL"
      }
    },
    {
      "cell_type": "markdown",
      "source": [
        "Exercise 5: USB Shopper \n",
        "A girl heads to a computer shop to buy some USB sticks. She loves USB sticks and wants as many as she can get for £50. They are £6 each.\n",
        "\n",
        "Write a programme that calculates how many USB sticks she can buy and how many pounds she will have left.\n",
        "\n",
        "You will to use the arithmetic operators to complete this exercise."
      ],
      "metadata": {
        "id": "0RzWF2SQH1VQ"
      }
    },
    {
      "cell_type": "code",
      "execution_count": null,
      "metadata": {
        "colab": {
          "base_uri": "https://localhost:8080/"
        },
        "id": "CmS6cYyQHuwl",
        "outputId": "6a37e8ef-5493-4d19-85de-f9aa8681ac27"
      },
      "outputs": [
        {
          "output_type": "stream",
          "name": "stdout",
          "text": [
            "Enter the amount available = \n",
            "50\n",
            "A single USB stick costs 6 dollars.\n",
            "You have 50.0 dollars and you can buy 8.0 sticks\n",
            "Balance = 2.0\n"
          ]
        }
      ],
      "source": [
        "print('Enter the amount available = ') # ask user for the available amount\n",
        "amount = float(input())\n",
        "\n",
        "amount_of_USB = 6  # price of a single USB stick\n",
        "print('A single USB stick costs ' + str(amount_of_USB) + ' dollars.') \n",
        "\n",
        "USBs_bought = amount // amount_of_USB    # Calculations for the USB sticks\n",
        "balance = amount % amount_of_USB\n",
        "\n",
        "print('You have ' + str(amount) + ' dollars and you can buy ' +                 # print the results after calculations\n",
        "      str(USBs_bought) + ' sticks')    \n",
        "print('Balance = ' + str(balance))"
      ]
    }
  ]
}