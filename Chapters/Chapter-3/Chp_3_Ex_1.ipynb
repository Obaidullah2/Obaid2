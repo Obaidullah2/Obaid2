{
  "nbformat": 4,
  "nbformat_minor": 0,
  "metadata": {
    "colab": {
      "provenance": []
    },
    "kernelspec": {
      "name": "python3",
      "display_name": "Python 3"
    },
    "language_info": {
      "name": "python"
    }
  },
  "cells": [
    {
      "cell_type": "markdown",
      "source": [
        "Chapter 3:DATA STRUCTURES"
      ],
      "metadata": {
        "id": "0le57i0qJ8Ou"
      }
    },
    {
      "cell_type": "markdown",
      "source": [
        "Exercise 1: Names \n",
        "\n",
        "(Store the names of a few of your friends in a list called names. Print each person’s name by accessing each element in the list, one at a time)."
      ],
      "metadata": {
        "id": "vXRSf_cNJ8LA"
      }
    },
    {
      "cell_type": "code",
      "execution_count": null,
      "metadata": {
        "colab": {
          "base_uri": "https://localhost:8080/"
        },
        "id": "ns_r8xFoJ7lK",
        "outputId": "bcd54f1c-657d-4c57-98fc-4d39e585dad6"
      },
      "outputs": [
        {
          "output_type": "stream",
          "name": "stdout",
          "text": [
            "Farhan\n",
            "Ahmed\n",
            "Zeeshan\n",
            "Asad\n",
            "Aslam\n"
          ]
        }
      ],
      "source": [
        "names = ['Farhan', 'Ahmed', 'Zeeshan', 'Asad', 'Aslam']  # a list of names of friends that are stored\n",
        "\n",
        "print(names[0])   # prints each item only if  calling its specific index number\n",
        "print(names[1])\n",
        "print(names[2])\n",
        "print(names[3])\n",
        "print(names[4])"
      ]
    }
  ]
}