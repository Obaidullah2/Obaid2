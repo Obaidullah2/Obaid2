{
  "nbformat": 4,
  "nbformat_minor": 0,
  "metadata": {
    "colab": {
      "provenance": []
    },
    "kernelspec": {
      "name": "python3",
      "display_name": "Python 3"
    },
    "language_info": {
      "name": "python"
    }
  },
  "cells": [
    {
      "cell_type": "markdown",
      "source": [
        "Chapter 3:Data structure"
      ],
      "metadata": {
        "id": "VYDyDBGWsTDw"
      }
    },
    {
      "cell_type": "markdown",
      "source": [
        "Exercise 2: Greetings \n",
        "\n",
        "(Start with the list you used in Exercise 1, but instead of just printing each person’s name, print a message to them). The text of each message should be the same, but each message should be\n",
        "\n",
        "personalized with the person’s name."
      ],
      "metadata": {
        "id": "EBK4ixgqsTAJ"
      }
    },
    {
      "cell_type": "code",
      "execution_count": null,
      "metadata": {
        "colab": {
          "base_uri": "https://localhost:8080/"
        },
        "id": "Z2HuAzASsSeW",
        "outputId": "cac6efc9-3f41-4c4b-cfe4-2b7cf35fcc61"
      },
      "outputs": [
        {
          "output_type": "stream",
          "name": "stdout",
          "text": [
            "Hello Ayyan, Could you come tomorrow for dinner.\n",
            "Hello Tom, Lets have walk at the beach.\n",
            "Hello Zafar, Where have you been ?\n",
            "Hello Karim, Enjoy your time here.\n",
            "Hello Abdul, Are you coming tomorrow for the match?.\n"
          ]
        }
      ],
      "source": [
        "names = ['Ayyan', 'Tom', 'Zafar', 'Karim', 'Abdul']   # list of names\n",
        "\n",
        "print('Hello ' + names[0] + ', Could you come tomorrow for dinner.') # calling every subject specifically and print a specifc message for every item.\n",
        "print('Hello ' + names[1] + ', Lets have walk at the beach.')\n",
        "print('Hello ' + names[2] + ', Where have you been ?')\n",
        "print('Hello ' + names[3] + ', Enjoy your time here.')\n",
        "print('Hello ' + names[4] + ', Are you coming tomorrow for the match?.')"
      ]
    }
  ]
}