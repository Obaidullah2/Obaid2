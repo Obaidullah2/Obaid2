{
  "nbformat": 4,
  "nbformat_minor": 0,
  "metadata": {
    "colab": {
      "provenance": []
    },
    "kernelspec": {
      "name": "python3",
      "display_name": "Python 3"
    },
    "language_info": {
      "name": "python"
    }
  },
  "cells": [
    {
      "cell_type": "markdown",
      "source": [
        "Chapter 3:Data structure"
      ],
      "metadata": {
        "id": "eYQZzg28u69p"
      }
    },
    {
      "cell_type": "markdown",
      "source": [
        "Exercise 3: Your Own List \n",
        "\n",
        "(Think of your favorite mode of transportation, such as a motorcycle or a car, and make a list that stores several examples. Use your list to print a series of statements about these items)."
      ],
      "metadata": {
        "id": "JQ0qE89Wu66N"
      }
    },
    {
      "cell_type": "code",
      "execution_count": null,
      "metadata": {
        "colab": {
          "base_uri": "https://localhost:8080/"
        },
        "id": "0u5GyyRNuyrm",
        "outputId": "fe856473-b890-4cb5-a508-ee4bf5d2a3c1"
      },
      "outputs": [
        {
          "output_type": "stream",
          "name": "stdout",
          "text": [
            "Travelling by Bus is really easy.\n",
            "I travel to market by Train on fridays .\n",
            "My favorite means of transportation is travelling by Tram\n",
            "Travelling by Plane is really long.\n"
          ]
        }
      ],
      "source": [
        "transport_modes = ['bus', 'train', 'tram', 'plane'] # modes of transportations\n",
        "\n",
        "print('Travelling by ' + transport_modes[0].title() + ' is really easy.')  # printing names of transport with specific message\n",
        "print('I travel to market by ' +\n",
        "      transport_modes[1].title() + ' on fridays .')\n",
        "print('My favorite means of transportation is travelling by ' +\n",
        "      transport_modes[2].title())\n",
        "print('Travelling by ' + transport_modes[3].title() + ' is really long.')"
      ]
    }
  ]
}