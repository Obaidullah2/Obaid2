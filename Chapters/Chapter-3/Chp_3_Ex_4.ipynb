{
  "nbformat": 4,
  "nbformat_minor": 0,
  "metadata": {
    "colab": {
      "provenance": []
    },
    "kernelspec": {
      "name": "python3",
      "display_name": "Python 3"
    },
    "language_info": {
      "name": "python"
    }
  },
  "cells": [
    {
      "cell_type": "markdown",
      "source": [
        "Chapter 3:Data structure"
      ],
      "metadata": {
        "id": "lx8buQsiw7df"
      }
    },
    {
      "cell_type": "markdown",
      "source": [
        "Exercise 4: Guest List:\n",
        "\n",
        "If you could invite anyone, living or deceased, to dinner, who would you invite? Make a list that includes at least three people you’d like to invite to dinner. Then use your list to print a message to each person, invitingthem to dinner."
      ],
      "metadata": {
        "id": "HMSCrIHKw7UR"
      }
    },
    {
      "cell_type": "code",
      "execution_count": null,
      "metadata": {
        "colab": {
          "base_uri": "https://localhost:8080/"
        },
        "id": "9IRaHxM1w5oo",
        "outputId": "b3459e77-167e-46c3-aa66-c1d15980b955"
      },
      "outputs": [
        {
          "output_type": "stream",
          "name": "stdout",
          "text": [
            "Hey Saim, Hey there I would want you to come to my home for dinner tomorrow.\n",
            "Hey Hamid, Hey there I would want you to come to my home for dinner tomorrow.\n",
            "Hey Razzak, Hey there I would want you to come to my home for dinner tomorrow.\n",
            "Hey Ali, Hey there I would want you to come to my home for dinner tomorrow.\n"
          ]
        }
      ],
      "source": [
        "guest_list = ['Saim', 'Hamid', 'Razzak', 'Ali'] # list of guests and their names\n",
        "\n",
        "print('Hey ' + guest_list[0] + ', Hey there I would want you to come to my home for dinner tomorrow.')   # prints the message for invitation separately for each guests.\n",
        "print('Hey ' + guest_list[1] + ', Hey there I would want you to come to my home for dinner tomorrow.')\n",
        "print('Hey ' + guest_list[2] +  ', Hey there I would want you to come to my home for dinner tomorrow.')\n",
        "print('Hey ' + guest_list[3] + ', Hey there I would want you to come to my home for dinner tomorrow.')"
      ]
    }
  ]
}