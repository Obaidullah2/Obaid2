{
  "nbformat": 4,
  "nbformat_minor": 0,
  "metadata": {
    "colab": {
      "provenance": []
    },
    "kernelspec": {
      "name": "python3",
      "display_name": "Python 3"
    },
    "language_info": {
      "name": "python"
    }
  },
  "cells": [
    {
      "cell_type": "markdown",
      "source": [
        "Chapter 3:Data structure"
      ],
      "metadata": {
        "id": "lLecythkyy9K"
      }
    },
    {
      "cell_type": "markdown",
      "source": [
        "Exercise 5: Change Guest List \n",
        "\n",
        "You just heard that one of your guests can’t make the dinner, so you need to send out a new set of invitations. You’ll have to think of someone else to invite.\n",
        "\n",
        "•Start with your program from Exercise 3-4. Add a print() call at the end of your program stating the name of the guest who can’t make it.\n",
        "\n",
        "•Modify your list, replacing the name of the guest who can’t make it with the name of the new person you are inviting.\n",
        "\n",
        "•Print a second set of invitation messages, one for each person who is still in your list."
      ],
      "metadata": {
        "id": "W_i7lfM0yy0e"
      }
    },
    {
      "cell_type": "code",
      "execution_count": null,
      "metadata": {
        "colab": {
          "base_uri": "https://localhost:8080/"
        },
        "id": "AjYj3e0tyyUM",
        "outputId": "02486311-e6cc-4ea3-92cb-2f81eb59ff0e"
      },
      "outputs": [
        {
          "output_type": "stream",
          "name": "stdout",
          "text": [
            "sorry to hear that Saeed you won't be able to come....\n",
            "['Raheem', 'Minal', 'Karim', 'Hamid']\n",
            "Hey there Raheem,  I would want you to come to my home for dinner tomorrow . \n",
            "Hey there Minal,  I would want you to come to my home for dinner tomorrow. \n",
            "Hey there Karim, I would want you to come to my home for dinner tomorrow. \n",
            "Hey there Hamid, I would want you to come to my home for dinner tomorrow. \n"
          ]
        }
      ],
      "source": [
        "guest_list = ['Raheem', 'Minal', 'Saeed', 'Hamid']        # list of guests and their names\n",
        "\n",
        "print('sorry to hear that ' + guest_list[2] + \" you won't be able to come....\")   # a message that a guest won't make it tomorrow for dinner\n",
        "\n",
        "guest_list[2] = 'Karim'  # replacing a guest with another guest.\n",
        "print(guest_list)\n",
        "print('Hey there ' + guest_list[0] + ',  I would want you to come to my home for dinner tomorrow . ')       # sending messages to all the guests in the  modified list for dinner tomorrow\n",
        "print('Hey there ' + guest_list[1] + ',  I would want you to come to my home for dinner tomorrow. ')\n",
        "print('Hey there ' + guest_list[2] + ', I would want you to come to my home for dinner tomorrow. ')\n",
        "print('Hey there ' + guest_list[3] + ', I would want you to come to my home for dinner tomorrow. ')"
      ]
    }
  ]
}