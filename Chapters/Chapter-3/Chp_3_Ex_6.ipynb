{
  "nbformat": 4,
  "nbformat_minor": 0,
  "metadata": {
    "colab": {
      "provenance": []
    },
    "kernelspec": {
      "name": "python3",
      "display_name": "Python 3"
    },
    "language_info": {
      "name": "python"
    }
  },
  "cells": [
    {
      "cell_type": "markdown",
      "source": [
        "Chapter 3; Exercise 6"
      ],
      "metadata": {
        "id": "exGIv6wY1xCp"
      }
    },
    {
      "cell_type": "markdown",
      "source": [
        "Exercise 6: Shrinking Guest List \n",
        "\n",
        "You just found out that your new dinner table won’t arrive in time for the dinner, and you have space for only two guests.\n",
        "\n",
        "\n",
        "•Start with your program from Exercise 3-5. Add a new line that prints a message saying that you can invite only two people for dinner.\n",
        "\n",
        "\n",
        "•Use pop() to remove guests from your list one at a time until only two names remain in your list. Each time you pop a name from your list, print a message to that person letting them know you’re sorry you can’t invite them to dinner.\n",
        "\n",
        "\n",
        "•Print a message to each of the two people still on your list, letting them know they’re still invited.\n",
        "\n",
        "\n",
        "•Use del to remove the last two names from your list, so you have an empty list. Print your list to make sure you actually have an empty list at the end of your program.    "
      ],
      "metadata": {
        "id": "jpEe4uSs1w_x"
      }
    },
    {
      "cell_type": "code",
      "execution_count": null,
      "metadata": {
        "colab": {
          "base_uri": "https://localhost:8080/"
        },
        "id": "47U1rZdx1tzj",
        "outputId": "ae60ead9-7e1a-4dc5-d34a-4f29a656e17f"
      },
      "outputs": [
        {
          "output_type": "stream",
          "name": "stdout",
          "text": [
            "I am sorry to say that there is some bad news, I can only invite two people for dinner tomorrow.\n",
            "Sorry my  friend Laiq, You are not invited for dinner tomorrow.\n",
            "['Ahmed', 'Ayyan', 'Salim']\n",
            "Sorry my  friend Ayyan, You are not invited for dinner tomorrow.\n",
            "['Ahmed', 'Salim']\n",
            "Hey Ahmed, you are still invited for dinner.\n",
            "Hey Salim, you are still invited for dinner.\n",
            "Guest List:  []\n"
          ]
        }
      ],
      "source": [
        "guest_list = ['Ahmed', 'Ayyan', 'Salim', 'Laiq']   # list of names of  guests\n",
        "\n",
        "print('I am sorry to say that there is some bad news, I can only invite two people for dinner tomorrow.')  # messages for the guests\n",
        "\n",
        "print('Sorry my  friend ' +\n",
        "      guest_list[3] + ', You are not invited for dinner tomorrow.')                  \n",
        "guest_list.pop(3)                                                      # removing guest \n",
        "print(guest_list)\n",
        "\n",
        "print('Sorry my  friend ' +\n",
        "      guest_list[1] + ', You are not invited for dinner tomorrow.')\n",
        "guest_list.pop(1)                                                      # removing second guest\n",
        "print(guest_list)\n",
        "\n",
        "print('Hey ' + guest_list[0] + ', you are still invited for dinner.')    #  now sending invitations to the  remaining guests for dinner\n",
        "print('Hey ' + guest_list[1] + ', you are still invited for dinner.')\n",
        "\n",
        "del guest_list[:]                                                     # deletion of the complete list\n",
        "print('Guest List: ', guest_list)                                     # printing the empty list"
      ]
    }
  ]
}