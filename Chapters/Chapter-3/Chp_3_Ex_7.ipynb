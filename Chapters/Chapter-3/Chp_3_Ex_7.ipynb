{
  "nbformat": 4,
  "nbformat_minor": 0,
  "metadata": {
    "colab": {
      "provenance": []
    },
    "kernelspec": {
      "name": "python3",
      "display_name": "Python 3"
    },
    "language_info": {
      "name": "python"
    }
  },
  "cells": [
    {
      "cell_type": "markdown",
      "source": [
        "Chapter 3; Exercise 7"
      ],
      "metadata": {
        "id": "ZMhATnzOnY0l"
      }
    },
    {
      "cell_type": "markdown",
      "source": [
        "Exercise 7: Seeing the World \n",
        "\n",
        "Think of at least five places in the world you’d like to visit. • Store the locations in a list. Make sure the list is not in alphabetical order.\n",
        "\n",
        "\n",
        "• Print your list in its original order. Don’t worry about printing the list neatly,just print it as a raw Python list.\n",
        "\n",
        "\n",
        "• Use sorted() to print your list in alphabetical order without modifying the actual list.\n",
        "\n",
        "\n",
        "• Show that your list is still in its original order by printing it.\n",
        "\n",
        "\n",
        "• Use sorted() to print your list in reverse alphabetical order without changing the order of the original list.\n",
        "\n",
        "\n",
        "• Show that your list is still in its original order by printing it again.\n",
        "\n",
        "\n",
        "• Use reverse() to change the order of your list. Print the list to show that its order has changed.\n",
        "\n",
        "\n",
        "• Use reverse() to change the order of your list again. Print the list to show it’s back to its original order.\n",
        "\n",
        "\n",
        "• Use sort() to change your list so it’s stored in alphabetical order. Print the list to show that its order has been changed.\n",
        "\n",
        "\n",
        "• Use sort() to change your list so it’s stored in reverse alphabetical order. Print the list to show that its order has changed."
      ],
      "metadata": {
        "id": "wJfnRBa7nYwG"
      }
    },
    {
      "cell_type": "code",
      "execution_count": null,
      "metadata": {
        "colab": {
          "base_uri": "https://localhost:8080/"
        },
        "id": "gxRzwbphnVL8",
        "outputId": "c14c3215-ab8a-4f8a-b7d9-c242dd7f2c0a"
      },
      "outputs": [
        {
          "output_type": "stream",
          "name": "stdout",
          "text": [
            "['Juventus', 'Barcelona', 'Lahore', 'Peshawer', 'Manchester', 'Madrid']\n",
            "\n",
            "\n",
            "['Barcelona', 'Juventus', 'Lahore', 'Madrid', 'Manchester', 'Peshawer']\n",
            "['Juventus', 'Barcelona', 'Lahore', 'Peshawer', 'Manchester', 'Madrid']\n",
            "\n",
            "\n",
            "['Peshawer', 'Manchester', 'Madrid', 'Lahore', 'Juventus', 'Barcelona']\n",
            "['Juventus', 'Barcelona', 'Lahore', 'Peshawer', 'Manchester', 'Madrid']\n",
            "\n",
            "\n",
            "['Madrid', 'Manchester', 'Peshawer', 'Lahore', 'Barcelona', 'Juventus']\n",
            "\n",
            "\n",
            "['Juventus', 'Barcelona', 'Lahore', 'Peshawer', 'Manchester', 'Madrid']\n",
            "\n",
            "\n",
            "['Barcelona', 'Juventus', 'Lahore', 'Madrid', 'Manchester', 'Peshawer']\n",
            "['Peshawer', 'Manchester', 'Madrid', 'Lahore', 'Juventus', 'Barcelona']\n"
          ]
        }
      ],
      "source": [
        "places = ['Juventus', 'Barcelona', 'Lahore', 'Peshawer', 'Manchester', 'Madrid']      # names of the places \n",
        "print(places)\n",
        "print('\\n')\n",
        "\n",
        "print(sorted(places))  # list will be in alphabetical order\n",
        "print(places)  # checking the original list\n",
        "\n",
        "print('\\n')\n",
        "\n",
        "print(sorted(places, reverse=True))  # list in reverse order\n",
        "print(places)  # checking of the original list\n",
        "\n",
        "print('\\n')\n",
        "\n",
        "places = list(reversed(places))  # now reversing the order\n",
        "print(places)  # printing the reversed order\n",
        "\n",
        "print('\\n')\n",
        "\n",
        "places = list(reversed(places))  # reversing the list again back to its original order\n",
        "print(places)  # prints the  original order\n",
        "\n",
        "print('\\n')\n",
        "\n",
        "places.sort()  # changing the original list to alphabetical order\n",
        "print(places)  # now prints the changes in the order of the list\n",
        "\n",
        "places.sort(reverse=True)  # changing to reversed alphabetical order.\n",
        "print(places)  # prints the changes made now"
      ]
    }
  ]
}