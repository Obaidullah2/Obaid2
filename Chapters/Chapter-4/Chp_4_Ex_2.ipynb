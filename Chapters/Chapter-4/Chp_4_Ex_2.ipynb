{
  "nbformat": 4,
  "nbformat_minor": 0,
  "metadata": {
    "colab": {
      "provenance": []
    },
    "kernelspec": {
      "name": "python3",
      "display_name": "Python 3"
    },
    "language_info": {
      "name": "python"
    }
  },
  "cells": [
    {
      "cell_type": "markdown",
      "source": [
        "Chapter 4;Exercise:2"
      ],
      "metadata": {
        "id": "nsHJ81nBrwGh"
      }
    },
    {
      "cell_type": "markdown",
      "source": [
        "Exercise 2: Alien Colors #2 \n",
        "Choose a color for an alien as you did in Exercise 5-3, and write an if-else chain.\n",
        "\n",
        "•If the alien’s color is green, print a statement that the player just earned 5 points for shooting the alien.\n",
        "\n",
        "•If the alien’s color isn’t green, print a statement that the player just earned 10 points.\n",
        "\n",
        "•Write one version of this program that runs the if block and another that runs the else block."
      ],
      "metadata": {
        "id": "KD_sDi3_rwAj"
      }
    },
    {
      "cell_type": "code",
      "execution_count": null,
      "metadata": {
        "colab": {
          "base_uri": "https://localhost:8080/"
        },
        "id": "InS-dDBPrtAK",
        "outputId": "8ff286b4-6cb4-4a0e-889c-39045bbb5c26"
      },
      "outputs": [
        {
          "output_type": "stream",
          "name": "stdout",
          "text": [
            "Congrats, you have earned 5 points.\n",
            "Congrats, you have earned 10 points.\n"
          ]
        }
      ],
      "source": [
        "# the if statement is true in this section\n",
        "alien_color = 'green'\n",
        "\n",
        "if alien_color == 'green':\n",
        "    print('Congrats, you have earned 5 points.')\n",
        "\n",
        "else:\n",
        "    print('Congrats, you have earned 10 points.')\n",
        "\n",
        "# the else statement is true in this section\n",
        "alien_color = 'pink'\n",
        "\n",
        "if alien_color == 'green':\n",
        "    print('Congrats, you have earned 5 points.')\n",
        "\n",
        "else:\n",
        "    print('Congrats, you have earned 10 points.')"
      ]
    }
  ]
}