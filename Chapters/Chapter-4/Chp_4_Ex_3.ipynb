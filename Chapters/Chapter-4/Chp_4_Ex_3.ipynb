{
  "nbformat": 4,
  "nbformat_minor": 0,
  "metadata": {
    "colab": {
      "provenance": []
    },
    "kernelspec": {
      "name": "python3",
      "display_name": "Python 3"
    },
    "language_info": {
      "name": "python"
    }
  },
  "cells": [
    {
      "cell_type": "markdown",
      "source": [
        "Chapter 4;Exercise:3"
      ],
      "metadata": {
        "id": "Npe7TZHksz8c"
      }
    },
    {
      "cell_type": "markdown",
      "source": [
        "Exercise 3: Alien Colors #3 \n",
        "\n",
        "Turn your if-else chain from Exercise 5-4 into an if-elifelse chain.\n",
        "\n",
        "• If the alien is green, print a message that the player earned 5 points.\n",
        "\n",
        "• If the alien is yellow, print a message that the player earned 10 points.\n",
        "\n",
        "• If the alien is red, print a message that the player earned 15 points.\n",
        "\n",
        "• Write three versions of this program, making sure each message is printed for the appropriate color alien."
      ],
      "metadata": {
        "id": "3SAS3vW_szpF"
      }
    },
    {
      "cell_type": "code",
      "execution_count": null,
      "metadata": {
        "colab": {
          "base_uri": "https://localhost:8080/"
        },
        "id": "xat74CMGswI8",
        "outputId": "8ce42b55-bdde-47ac-9607-167e1a4a95b0"
      },
      "outputs": [
        {
          "output_type": "stream",
          "name": "stdout",
          "text": [
            "You have earned 5 points.\n",
            "You have earned 10 points.\n",
            "You have earned 15 points.\n"
          ]
        }
      ],
      "source": [
        "#  the first condition is true in this section.\n",
        "alien_color = 'blue'\n",
        "\n",
        "if alien_color == 'blue':\n",
        "    print('You have earned 5 points.')\n",
        "\n",
        "elif alien_color == 'white':\n",
        "    print('You have earned 10 points.')\n",
        "\n",
        "else:\n",
        "    print('You have earned 15 points.')\n",
        "\n",
        "#  the second condition is true in this section.\n",
        "alien_color = 'white'\n",
        "\n",
        "if alien_color == 'blue': print('You have earned 5 points.')\n",
        "\n",
        "elif alien_color == 'white': print('You have earned 10 points.')\n",
        "\n",
        "else: print('You have earned 15 points.')\n",
        "\n",
        "#  the last condition is true in this section.\n",
        "alien_color = 'brown'\n",
        "\n",
        "if alien_color == 'blue': print('You have earned 5 points.')\n",
        "\n",
        "elif alien_color == 'white': print('You have earned 10 points.')\n",
        "\n",
        "else: print('You have earned 15 points.')"
      ]
    }
  ]
}