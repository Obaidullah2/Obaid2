{
  "nbformat": 4,
  "nbformat_minor": 0,
  "metadata": {
    "colab": {
      "provenance": []
    },
    "kernelspec": {
      "name": "python3",
      "display_name": "Python 3"
    },
    "language_info": {
      "name": "python"
    }
  },
  "cells": [
    {
      "cell_type": "markdown",
      "source": [
        "Chapter 5: Dictionaries\n",
        "\n",
        "Exercise:1"
      ],
      "metadata": {
        "id": "Hl0AeY--y9UC"
      }
    },
    {
      "cell_type": "markdown",
      "source": [
        "Exercise 1: Person \n",
        "\n",
        "Use a dictionary to store information about a person you know.Store their first name, last name, age, and the city in which they live. You should have keys such as first_name, last_name, age, and city. Print each piece of information stored in your dictionary."
      ],
      "metadata": {
        "id": "G7IDrDt_y9K6"
      }
    },
    {
      "cell_type": "code",
      "execution_count": null,
      "metadata": {
        "colab": {
          "base_uri": "https://localhost:8080/"
        },
        "id": "ZpAWTbEBy4ol",
        "outputId": "f748399b-cffd-4746-dee9-fcd37c1dc009"
      },
      "outputs": [
        {
          "output_type": "stream",
          "name": "stdout",
          "text": [
            "Obaidullah\n",
            "Shah\n",
            "Sharjah\n",
            "18\n"
          ]
        }
      ],
      "source": [
        "user_info = {'first_name': 'Obaidullah',\n",
        "             'last_name': 'Shah', 'city': 'Sharjah', 'age': '18'}    # dictionary that contains user info.\n",
        "\n",
        "print(user_info['first_name'])   #prints each item that is in the dictionary.\n",
        "print(user_info['last_name'])\n",
        "print(user_info['city'])\n",
        "print(user_info['age'])"
      ]
    }
  ]
}