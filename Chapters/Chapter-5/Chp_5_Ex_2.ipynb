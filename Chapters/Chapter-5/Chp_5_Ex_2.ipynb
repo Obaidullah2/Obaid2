{
  "nbformat": 4,
  "nbformat_minor": 0,
  "metadata": {
    "colab": {
      "provenance": []
    },
    "kernelspec": {
      "name": "python3",
      "display_name": "Python 3"
    },
    "language_info": {
      "name": "python"
    }
  },
  "cells": [
    {
      "cell_type": "markdown",
      "source": [
        "Chapter 5;Exercise:2"
      ],
      "metadata": {
        "id": "iOZ9lx860J--"
      }
    },
    {
      "cell_type": "markdown",
      "source": [
        "Exercise 2: Glossary \n",
        "\n",
        "A Python dictionary can be used to model an actual dictionary. However, to avoid confusion, let’s call it a glossary.\n",
        "\n",
        "Think of five programming words you’ve learned about in the previous chapters. Use these words as the keys in your glossary, and store\n",
        "their meanings as values.\n",
        "\n",
        "Print each word and its meaning as neatly formatted output. You might print the word followed by a colon and then its meaning, or print\n",
        "the word on one line and then print its meaning indented on a second line. Use the newline character (\\n) to insert a blank line between each word-meaning pair in your output.    "
      ],
      "metadata": {
        "id": "jSreV2FT0J2T"
      }
    },
    {
      "cell_type": "code",
      "execution_count": null,
      "metadata": {
        "colab": {
          "base_uri": "https://localhost:8080/"
        },
        "id": "srX4IeW20HaE",
        "outputId": "44da33fb-42db-4f6d-a575-ab91387e8b4d"
      },
      "outputs": [
        {
          "output_type": "stream",
          "name": "stdout",
          "text": [
            "Loop:\n",
            "a loop is an operation in programming that repeats a certain statement until a certain condition is met\n",
            "\n",
            "\n",
            "Concatenation:\n",
            "it refers to the joining of multiple strings to make a single long string.\n",
            "\n",
            "\n",
            "bin():\n",
            "it is the function, used to find the binary value of a certain character.\n",
            "\n",
            "\n",
            "IDE:\n",
            "IDE stands for integrated development environment. It is a space built for coders to run, save, debug, etc. Their code in a single environment. \n",
            "\n",
            "\n",
            "GitHub:\n",
            "It is a platform where we can store our coding projects in a cloud based repositories, collaborate with other developers and control the versions.\n"
          ]
        }
      ],
      "source": [
        "glossary = {'loop':\n",
        "            'a loop is an operation in programming that repeats a certain statement until a certain condition is met',  #entering statements in dictionary.\n",
        "            'concatenation':                                                                                            #enterig five different programming word.s\n",
        "            'it refers to the joining of multiple strings to make a single long string.',                               #entering the definition of those words.\n",
        "            'bin()':\n",
        "            'it is the function, used to find the binary value of a certain character.',\n",
        "            'IDE':\n",
        "            'IDE stands for integrated development environment. It is a space built for coders to run, save, debug, etc. Their code in a single environment. ',\n",
        "            'GitHub':\n",
        "            'It is a platform where we can store our coding projects in a cloud based repositories, collaborate with other developers and control the versions.'}\n",
        "\n",
        "print('Loop:')                       #printing thise five programming words and their definition.\n",
        "print(glossary['loop'])\n",
        "print('\\n')\n",
        "\n",
        "print('Concatenation:')\n",
        "print(glossary['concatenation'])\n",
        "print('\\n')\n",
        "\n",
        "print('bin():')\n",
        "print(glossary['bin()'])\n",
        "print('\\n')\n",
        "\n",
        "print('IDE:')\n",
        "print(glossary['IDE'])\n",
        "print('\\n')\n",
        "\n",
        "print('GitHub:')\n",
        "print(glossary['GitHub'])"
      ]
    }
  ]
}