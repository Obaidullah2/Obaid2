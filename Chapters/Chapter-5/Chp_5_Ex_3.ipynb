{
  "nbformat": 4,
  "nbformat_minor": 0,
  "metadata": {
    "colab": {
      "provenance": []
    },
    "kernelspec": {
      "name": "python3",
      "display_name": "Python 3"
    },
    "language_info": {
      "name": "python"
    }
  },
  "cells": [
    {
      "cell_type": "markdown",
      "source": [
        "Chapter 5;Exercise:3"
      ],
      "metadata": {
        "id": "gtkgzqeW2J7E"
      }
    },
    {
      "cell_type": "markdown",
      "source": [
        "Exercise 3: Glossary 2 \n",
        "\n",
        "Now that you know how to loop through a dictionary, clean up the code from Exercise 6-3 (page 99) by replacing your series of print() calls with a loop that runs through the dictionary’s keys and values. When you’re sure that your loop works, add five more Python terms to your glossary.When you run your program again, these new words and meanings should automatically be included in the output."
      ],
      "metadata": {
        "id": "a9J0YsOE2JzD"
      }
    },
    {
      "cell_type": "code",
      "execution_count": null,
      "metadata": {
        "colab": {
          "base_uri": "https://localhost:8080/"
        },
        "id": "qhT0DRsv2G0m",
        "outputId": "9ffd9bc6-3b1d-47f2-f907-66a5ad71ff77"
      },
      "outputs": [
        {
          "output_type": "stream",
          "name": "stdout",
          "text": [
            "Loop: A Loop Is An Operation In Programming That Repeats A Certain Statement Until A Certain Condition Is Met.\n",
            "Concatenation: It Refers To The Joining Of Multiple Strings To Make A Single Long String..\n",
            "Bin(): It Is The Function, Used To Find The Binary Value Of A Certain Character..\n",
            "Ide: Ide Stands For Integrated Development Environment. It Is A Space Built For Coders To Run, Save, Debug, Etc. Their Code In A Single Environment. .\n",
            "Github: It Is A Platform Where We Can Store Our Code Projects In A Cloud Based Repositories, Collaborate With Other Developers And Control The Versions..\n",
            "Python: It Is A High-Level Programming Language Developed By  Guido Van Rossum .\n",
            "Interpreter: It Is A Tool In An Ide That Finds Potential Errors And Points Them Out To Be Fixed..\n",
            "Functions: They Are The Building Blocks Of The Code..\n",
            "Library: A Library Is A Collection Of Related Modules. They Are Pre-Written Codes..\n"
          ]
        }
      ],
      "source": [
        "# now creating a gloassary.\n",
        "glossary = {'loop':\n",
        "            'a loop is an operation in programming that repeats a certain statement until a certain condition is met',\n",
        "            'concatenation':\n",
        "            'it refers to the joining of multiple strings to make a single long string.',\n",
        "            'bin()':\n",
        "            'it is the function, used to find the binary value of a certain character.',\n",
        "            'IDE':\n",
        "            'IDE stands for integrated development environment. It is a space built for coders to run, save, debug, etc. their code in a single environment. ',\n",
        "            'GitHub': \n",
        "            'It is a platform where we can store our code projects in a cloud based repositories, collaborate with other developers and control the versions.',\n",
        "            'Python':\n",
        "            'It is a high-level programming language developed by  Guido van Rossum ',\n",
        "            'Interpreter':\n",
        "            'It is a tool in an IDE that finds potential errors and points them out to be fixed.',\n",
        "            'Functions':\n",
        "            'They are the building blocks of the code.',\n",
        "            'library': \n",
        "            'A library is a collection of related modules. They are pre-written codes.'}\n",
        "\n",
        "# using for loop to print all the definitions of the programming terms.\n",
        "for word, definition in glossary.items():\n",
        "    print(f'{word.title()}: {definition.title()}.')"
      ]
    }
  ]
}