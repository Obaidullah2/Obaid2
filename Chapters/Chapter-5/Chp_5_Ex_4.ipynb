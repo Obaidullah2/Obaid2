{
  "nbformat": 4,
  "nbformat_minor": 0,
  "metadata": {
    "colab": {
      "provenance": []
    },
    "kernelspec": {
      "name": "python3",
      "display_name": "Python 3"
    },
    "language_info": {
      "name": "python"
    }
  },
  "cells": [
    {
      "cell_type": "markdown",
      "source": [
        "Chapter 5;Exercise:4"
      ],
      "metadata": {
        "id": "kLo0zVsq4sCa"
      }
    },
    {
      "cell_type": "markdown",
      "source": [
        "Exercise 4: Rivers \n",
        "\n",
        "Make a dictionary containing three major rivers and the country each river runs through. One key-value pair might be 'nile': 'egypt'.\n",
        "\n",
        "1.Use a loop to print a sentence about each river, such as The Nile runs through Egypt.\n",
        "\n",
        "2.Use a loop to print the name of each river included in the dictionary.\n",
        "\n",
        "3.Use a loop to print the name of each country included in the dictionary."
      ],
      "metadata": {
        "id": "vac-WRaf4r_V"
      }
    },
    {
      "cell_type": "code",
      "execution_count": null,
      "metadata": {
        "colab": {
          "base_uri": "https://localhost:8080/"
        },
        "id": "ZpiP9KSG4o5V",
        "outputId": "31903f81-9d44-4b44-f0f8-b2187aa3bb9e"
      },
      "outputs": [
        {
          "output_type": "stream",
          "name": "stdout",
          "text": [
            "Printing Key-Value pairs:\n",
            "\n",
            " Key: Nile\n",
            "Value: Egypt\n",
            "The river Nile flows through Egypt\n",
            "\n",
            " Key: Indus\n",
            "Value: Pakistan\n",
            "The river Indus flows through Pakistan\n",
            "\n",
            " Key: Ravi\n",
            "Value: Pakistan\n",
            "The river Ravi flows through Pakistan\n",
            "The following are included the set: \n",
            "-Nile\n",
            "-Indus\n",
            "-Ravi\n",
            "\n",
            "The following countries are included in the set: \n",
            "-Egypt\n",
            "-Pakistan\n",
            "-Pakistan\n"
          ]
        }
      ],
      "source": [
        "rivers = {                                                         # dictionary or glossary containing the list of rivers and the countries that the rivers are in.\n",
        "    'Nile': 'Egypt',\n",
        "    'Indus': 'Pakistan',\n",
        "    'Ravi': 'Pakistan'\n",
        "}\n",
        "\n",
        "print('Printing Key-Value pairs:')\n",
        "\n",
        "for key, value in rivers.items():                                      # for loop here is to display key-value pairs.\n",
        "    print(f'\\n Key: {key}')\n",
        "    print(f'Value: {value}')\n",
        "\n",
        "    print(f'The river {key} flows through {value}')\n",
        "\n",
        "print('The following are included the set: ')\n",
        "\n",
        "for river in rivers.keys():\n",
        "    print(f\"-{river.title()}\")\n",
        "\n",
        "print('\\nThe following countries are included in the set: ')\n",
        "for country in rivers.values():\n",
        "  print(f\"-{country.title()}\") "
      ]
    }
  ]
}