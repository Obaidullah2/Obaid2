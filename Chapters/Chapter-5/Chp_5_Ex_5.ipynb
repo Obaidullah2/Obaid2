{
  "nbformat": 4,
  "nbformat_minor": 0,
  "metadata": {
    "colab": {
      "provenance": []
    },
    "kernelspec": {
      "name": "python3",
      "display_name": "Python 3"
    },
    "language_info": {
      "name": "python"
    }
  },
  "cells": [
    {
      "cell_type": "markdown",
      "source": [
        "Chapter 5;Exercise:5"
      ],
      "metadata": {
        "id": "FerccfRq6Cq6"
      }
    },
    {
      "cell_type": "markdown",
      "source": [
        "Exercise 5: Pets \n",
        "\n",
        "Make several dictionaries, where each dictionary represents a different pet. In each dictionary, include the kind of animal and the owner’s name. Store these dictionaries in a list called pets. Next, loop through your list and asyou do, print everything you know about each pet."
      ],
      "metadata": {
        "id": "U9WhnLuZ6CkE"
      }
    },
    {
      "cell_type": "code",
      "execution_count": null,
      "metadata": {
        "colab": {
          "base_uri": "https://localhost:8080/"
        },
        "id": "zJoF5cZv5-xN",
        "outputId": "5640b02d-a9b5-445f-b8ce-37b722d2f414"
      },
      "outputs": [
        {
          "output_type": "stream",
          "name": "stdout",
          "text": [
            "{'animal': 'snake', 'owner': 'Zafar', 'pet-color': 'yellow'}\n",
            "\n",
            "\n",
            "{'animal': 'hamster', 'owner': 'Saim', 'pet-color': 'brown'}\n",
            "\n",
            "\n",
            "{'animal': 'oranutan', 'owner': 'Chris', 'pet-color': 'orange'}\n",
            "\n",
            "\n",
            "{'animal': 'pigeon', 'owner': 'Karim', 'pet-color': 'grey'}\n",
            "\n",
            "\n"
          ]
        }
      ],
      "source": [
        "pet_1 = {                               # entering names for the pets and their owners\n",
        "    'animal': 'snake',                  #entering the type o pets and the color of pets\n",
        "    'owner': 'Zafar',\n",
        "    'pet-color': 'yellow'}              #entering the names of the owner of pets\n",
        "\n",
        "pet_2 = {\n",
        "    'animal': 'hamster',\n",
        "    'owner': 'Saim',\n",
        "    'pet-color': 'brown'\n",
        "}\n",
        "\n",
        "pet_3 = {\n",
        "    'animal': 'oranutan',\n",
        "    'owner': 'Chris',\n",
        "    'pet-color': 'orange'\n",
        "}\n",
        "\n",
        "pet_4 = {\n",
        "    'animal': 'pigeon',\n",
        "    'owner': 'Karim',\n",
        "    'pet-color': 'grey'\n",
        "}\n",
        "\n",
        "pets = [pet_1, pet_2, pet_3, pet_4]      #printing ach owner and their pets along with them in each statement.\n",
        "\n",
        "for pet in pets:\n",
        "    print(pet)\n",
        "\n",
        "    print('\\n')"
      ]
    }
  ]
}