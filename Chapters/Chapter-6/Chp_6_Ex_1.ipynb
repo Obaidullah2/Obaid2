{
  "nbformat": 4,
  "nbformat_minor": 0,
  "metadata": {
    "colab": {
      "provenance": []
    },
    "kernelspec": {
      "name": "python3",
      "display_name": "Python 3"
    },
    "language_info": {
      "name": "python"
    }
  },
  "cells": [
    {
      "cell_type": "markdown",
      "source": [
        "Chapter 6:Loops"
      ],
      "metadata": {
        "id": "275ONQtL8VSu"
      }
    },
    {
      "cell_type": "markdown",
      "source": [
        "Exercise 1: Pizza Toppings \n",
        "\n",
        "Write a loop that prompts the user to enter a series of pizza toppings until they enter a 'quit' value. As they enter each topping,print a message saying you’ll add that topping to their pizza."
      ],
      "metadata": {
        "id": "5F_eLg9q8VP7"
      }
    },
    {
      "cell_type": "code",
      "execution_count": null,
      "metadata": {
        "colab": {
          "base_uri": "https://localhost:8080/"
        },
        "id": "sNPlwI2r8QY6",
        "outputId": "d1f94506-0cfa-4d5a-c1ba-a0add73db335"
      },
      "outputs": [
        {
          "output_type": "stream",
          "name": "stdout",
          "text": [
            "Enter the toppings you want on pizza \n",
            "Type quit to exit\n",
            "quit\n",
            "quitwill be added to your pizza.\n"
          ]
        }
      ],
      "source": [
        "print('Enter the toppings you want on pizza ')  #entering the toppings that you would like to have on your pizza.\n",
        "print ('Type quit to exit')\n",
        "\n",
        "while True:                         \n",
        "    topping = str(input())\n",
        "    print(topping + 'will be added to your pizza.')     #toppings will be added to your pizza. \n",
        "\n",
        "    if topping == 'quit':\n",
        "        break\n",
        "\n",
        "    else:\n",
        "        print('You have selected the following toppings: \\n ' + str(topping).title())"
      ]
    }
  ]
}