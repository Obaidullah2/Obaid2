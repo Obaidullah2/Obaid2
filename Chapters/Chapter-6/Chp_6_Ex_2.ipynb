{
  "nbformat": 4,
  "nbformat_minor": 0,
  "metadata": {
    "colab": {
      "provenance": []
    },
    "kernelspec": {
      "name": "python3",
      "display_name": "Python 3"
    },
    "language_info": {
      "name": "python"
    }
  },
  "cells": [
    {
      "cell_type": "markdown",
      "source": [
        "Chapter 6; Exercise:2"
      ],
      "metadata": {
        "id": "WCIDkRG196C3"
      }
    },
    {
      "cell_type": "markdown",
      "source": [
        "Exercise 2: Movie Tickets: \n",
        "\n",
        "A movie theater charges different ticket prices depending on a person’s age. If a person is under the age of 3, the ticket is free; if they are between 3 and 12, the ticket is USD10; and if they are over age 12, the ticket is USD15. Write a loop in which you ask users their age,and then tell them the cost of their movie ticket."
      ],
      "metadata": {
        "id": "pzYDIN7n957k"
      }
    },
    {
      "cell_type": "code",
      "execution_count": null,
      "metadata": {
        "colab": {
          "base_uri": "https://localhost:8080/"
        },
        "id": "SsLig1oR93Ny",
        "outputId": "0f753331-be77-4ae4-e1d3-05f54b2cdf5e"
      },
      "outputs": [
        {
          "name": "stdout",
          "output_type": "stream",
          "text": [
            "What is your age?\n",
            "Type quit to exit\n",
            "8\n",
            "The ticket cost is $10.\n",
            "13\n",
            "The ticket cost is $15.\n",
            "quit\n"
          ]
        }
      ],
      "source": [
        "print('What is your age?')  #prints the age \n",
        "print('Type quit to exit')   #will quit if enter it.\n",
        "\n",
        "age = 0\n",
        "\n",
        "while True:\n",
        "\n",
        "    age = input()\n",
        "    if age == 'quit':\n",
        "        break\n",
        "\n",
        "    else:\n",
        "\n",
        "        age = int(age)\n",
        "        if age < 3:\n",
        "            print('The ticket is FREE of cost for you.')\n",
        "\n",
        "        elif 3 <= age <= 12:\n",
        "            print('The ticket cost is $10.')\n",
        "\n",
        "        elif age > 12:\n",
        "            print('The ticket cost is $15.')"
      ]
    }
  ]
}