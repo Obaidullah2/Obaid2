{
  "nbformat": 4,
  "nbformat_minor": 0,
  "metadata": {
    "colab": {
      "provenance": [],
      "collapsed_sections": []
    },
    "kernelspec": {
      "name": "python3",
      "display_name": "Python 3"
    },
    "language_info": {
      "name": "python"
    }
  },
  "cells": [
    {
      "cell_type": "markdown",
      "source": [
        "Chapter 6; Exercise:3"
      ],
      "metadata": {
        "id": "y6_mKOSEUp1r"
      }
    },
    {
      "cell_type": "markdown",
      "source": [
        "Exercise 3: Infinity \n",
        "\n",
        "Write a loop that never ends, and run it. (To end the loop, press ctrl-C or close the window displaying the output.)"
      ],
      "metadata": {
        "id": "hDrBdmy9UpzA"
      }
    },
    {
      "cell_type": "code",
      "execution_count": null,
      "metadata": {
        "id": "4TSRWwReUSeB"
      },
      "outputs": [],
      "source": [
        "x = 1  # taking a number and storing that number in an variable\n",
        "\n",
        "while x == 1:                  # creating a loop that makes the statement on line number 3 true.\n",
        "   print('This loop will never end')   # a message that prints in the loop."
      ]
    }
  ]
}