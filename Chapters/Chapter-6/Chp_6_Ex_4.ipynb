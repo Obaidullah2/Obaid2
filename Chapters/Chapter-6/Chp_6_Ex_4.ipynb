{
  "nbformat": 4,
  "nbformat_minor": 0,
  "metadata": {
    "colab": {
      "provenance": []
    },
    "kernelspec": {
      "name": "python3",
      "display_name": "Python 3"
    },
    "language_info": {
      "name": "python"
    }
  },
  "cells": [
    {
      "cell_type": "markdown",
      "source": [
        "Chapter 6; Exercise:4"
      ],
      "metadata": {
        "id": "NQW-aCdhYLWP"
      }
    },
    {
      "cell_type": "markdown",
      "source": [
        "Exercise 4: Deli \n",
        "\n",
        "Make a list called sandwich_orders and fill it with the names of various sandwiches. Then make an empty list called finished_sandwiches.\n",
        "\n",
        "Loop through the list of sandwich orders and print a message for each order, such as I made your tuna sandwich. As each sandwich is made, move it to the list of finished sandwiches. After all the sandwiches have been made, print a message listing each sandwich that was made."
      ],
      "metadata": {
        "id": "f7nnO9DEYLex"
      }
    },
    {
      "cell_type": "code",
      "execution_count": null,
      "metadata": {
        "colab": {
          "base_uri": "https://localhost:8080/"
        },
        "id": "qp1DLOLWX_ee",
        "outputId": "c7f7e65f-ab62-4ee0-c979-7da3d8b50f33"
      },
      "outputs": [
        {
          "output_type": "stream",
          "name": "stdout",
          "text": [
            "I made your veggie sandwich\n",
            "I made your chicken sandwich\n",
            "I made your ham sandwich\n",
            "I made your cheese sandwich\n",
            "\n",
            "\n",
            "Sandwich Orders:\n",
            "veggie Sandwich\n",
            "chicken Sandwich\n",
            "ham Sandwich\n",
            "cheese Sandwich\n"
          ]
        }
      ],
      "source": [
        "sandwich_orders = ['cheese', 'ham', 'chicken', 'veggie'] #entering name of sandwiches in orders\n",
        "finished_sandwiches = []\n",
        "\n",
        "while sandwich_orders:                                 #adding while loop\n",
        "    current_sandwich = sandwich_orders.pop()\n",
        "    print('I made your ' + current_sandwich + ' sandwich')\n",
        "\n",
        "    finished_sandwiches.append(current_sandwich)\n",
        "\n",
        "print('\\n')                             \n",
        "print('Sandwich Orders:')                       #printing sandwich orders\n",
        "\n",
        "for sandwich in finished_sandwiches:            \n",
        "    print(sandwich, 'Sandwich')                 #now prints sandwich"
      ]
    }
  ]
}