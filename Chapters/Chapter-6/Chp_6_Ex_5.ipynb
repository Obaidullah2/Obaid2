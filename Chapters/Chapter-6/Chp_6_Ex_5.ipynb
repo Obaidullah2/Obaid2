{
  "nbformat": 4,
  "nbformat_minor": 0,
  "metadata": {
    "colab": {
      "provenance": []
    },
    "kernelspec": {
      "name": "python3",
      "display_name": "Python 3"
    },
    "language_info": {
      "name": "python"
    }
  },
  "cells": [
    {
      "cell_type": "markdown",
      "source": [
        "Chapter 6; Exercise:5"
      ],
      "metadata": {
        "id": "tpfIdCTtaY6U"
      }
    },
    {
      "cell_type": "markdown",
      "source": [
        "Exercise 5: No Pastrami \n",
        "\n",
        "Using the list sandwich_orders from Exercise 7-8, make sure the sandwich 'pastrami' appears in the list at least three times. Add code near the beginning of your program to print a message saying the deli has run out of pastrami, and then use a while loop to remove all occurrences of 'pastrami' from sandwich_orders. Make sure no pastrami sandwiches end up in finished_sandwiches."
      ],
      "metadata": {
        "id": "fLdMkuF1aY1M"
      }
    },
    {
      "cell_type": "code",
      "execution_count": null,
      "metadata": {
        "colab": {
          "base_uri": "https://localhost:8080/"
        },
        "id": "pO4DWhs1aUZb",
        "outputId": "efb0c2c9-4037-4127-8e09-9eb11d04c345"
      },
      "outputs": [
        {
          "output_type": "stream",
          "name": "stdout",
          "text": [
            "The deli has run out of pastrami.\n",
            "I made your pastrami sandwich.\n",
            "I made your veggie sandwich.\n",
            "I made your chicken sandwich.\n",
            "I made your  cheese sandwich.\n",
            "I made your ham sandwich.\n",
            "\n",
            "\n",
            "Sandwich orders:\n",
            "pastrami Sandwich\n",
            "veggie Sandwich\n",
            "chicken Sandwich\n",
            " cheese Sandwich\n",
            "ham Sandwich\n",
            "[]\n"
          ]
        }
      ],
      "source": [
        "sandwich_orders = ['ham', ' cheese', 'chicken',\n",
        "                   'veggie', 'pastrami', 'pastrami', 'pastrami']   #entering names of sandwiches in sandwich orders\n",
        "finished_sandwiches = []\n",
        "\n",
        "print('The deli has run out of pastrami.')            #print the statement\n",
        "\n",
        "for sandwich in sandwich_orders:\n",
        "    if sandwich == 'pastrami':\n",
        "        sandwich_orders.remove(sandwich)\n",
        "\n",
        "while sandwich_orders:                            #adding while loop\n",
        "    current_sandwich = sandwich_orders.pop()\n",
        "    print('I made your ' + current_sandwich + ' sandwich.')\n",
        "    finished_sandwiches.append(current_sandwich)\n",
        "\n",
        "print('\\n')\n",
        "print('Sandwich orders:')\n",
        "\n",
        "for sandwich in finished_sandwiches:\n",
        "    print(sandwich, 'Sandwich')\n",
        "\n",
        "print(sandwich_orders)               #prints sandwich orders"
      ]
    }
  ]
}