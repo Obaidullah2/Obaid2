{
  "nbformat": 4,
  "nbformat_minor": 0,
  "metadata": {
    "colab": {
      "provenance": []
    },
    "kernelspec": {
      "name": "python3",
      "display_name": "Python 3"
    },
    "language_info": {
      "name": "python"
    }
  },
  "cells": [
    {
      "cell_type": "markdown",
      "source": [
        "Chapter 7: Functions"
      ],
      "metadata": {
        "id": "e1PA6v-udT6k"
      }
    },
    {
      "cell_type": "markdown",
      "source": [
        "Exercise 1: Message \n",
        "\n",
        "Write a function called display_message() that prints one sentence telling everyone what you are learning about in this chapter. Call the function, and make sure the message displays correctly."
      ],
      "metadata": {
        "id": "eEGSyXcsdT2g"
      }
    },
    {
      "cell_type": "code",
      "execution_count": null,
      "metadata": {
        "colab": {
          "base_uri": "https://localhost:8080/"
        },
        "id": "whWXSqUJcTG2",
        "outputId": "57cd6d78-cc00-4abf-f386-a4e2f07e0ec5"
      },
      "outputs": [
        {
          "output_type": "stream",
          "name": "stdout",
          "text": [
            "I am learning about functions in Python programming! It is fun to learn this.\n"
          ]
        }
      ],
      "source": [
        "def display_message():      # using def to create a user-defined function for display message.\n",
        "    # the message is inside the function\n",
        "    print('I am learning about functions in Python programming! It is fun to learn this.')\n",
        "\n",
        "\n",
        "# typing the function's name to call it out and it executes the statements in the functions\n",
        "display_message()"
      ]
    }
  ]
}