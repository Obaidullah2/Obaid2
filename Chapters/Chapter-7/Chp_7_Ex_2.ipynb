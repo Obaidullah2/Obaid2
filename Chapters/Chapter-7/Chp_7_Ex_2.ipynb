{
  "nbformat": 4,
  "nbformat_minor": 0,
  "metadata": {
    "colab": {
      "provenance": []
    },
    "kernelspec": {
      "name": "python3",
      "display_name": "Python 3"
    },
    "language_info": {
      "name": "python"
    }
  },
  "cells": [
    {
      "cell_type": "markdown",
      "source": [
        "Chapter7; Exercise:2"
      ],
      "metadata": {
        "id": "yLh2tDsmfzHe"
      }
    },
    {
      "cell_type": "markdown",
      "source": [
        "Exercise 2: Favorite Book \n",
        "\n",
        "Write a function called favorite_book() that accepts one parameter, title. The function should print a message, such as One of my favorite books is Alice in Wonderland. Call the function, making sure to include a book title as an argument in the function call."
      ],
      "metadata": {
        "id": "A8ix6k71fzEb"
      }
    },
    {
      "cell_type": "code",
      "execution_count": null,
      "metadata": {
        "colab": {
          "base_uri": "https://localhost:8080/"
        },
        "id": "tUwxsef0fjpT",
        "outputId": "2abe206b-0359-42f4-dea8-458ba008f45a"
      },
      "outputs": [
        {
          "output_type": "stream",
          "name": "stdout",
          "text": [
            "One of my favorite books is Harry Potter .\n"
          ]
        }
      ],
      "source": [
        "def favorite_book(book):     # defining a function that has one parameter\n",
        "    # message will be printed\n",
        "    print(f'One of my favorite books is {book.title()}.')\n",
        "\n",
        "\n",
        "# Calling the function and the data written in it gets stored in parameter (book)\n",
        "favorite_book('Harry Potter ')"
      ]
    }
  ]
}