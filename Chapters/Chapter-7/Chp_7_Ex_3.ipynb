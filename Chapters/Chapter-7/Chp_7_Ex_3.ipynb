{
  "nbformat": 4,
  "nbformat_minor": 0,
  "metadata": {
    "colab": {
      "provenance": []
    },
    "kernelspec": {
      "name": "python3",
      "display_name": "Python 3"
    },
    "language_info": {
      "name": "python"
    }
  },
  "cells": [
    {
      "cell_type": "markdown",
      "source": [
        "Chapter7; Exercise:3"
      ],
      "metadata": {
        "id": "cCZEf6DtoViP"
      }
    },
    {
      "cell_type": "markdown",
      "source": [
        "Exercise 3: T-Shirt \n",
        "\n",
        "Write a function called make_shirt() that accepts a size and the text of a message that should be printed on the shirt. The function should print a sentence summarizing the size of the shirt and the message printed on it. Call the function once using positional arguments to make a shirt. Call the function a second time using keyword arguments."
      ],
      "metadata": {
        "id": "TrIisfHzoVfb"
      }
    },
    {
      "cell_type": "code",
      "execution_count": null,
      "metadata": {
        "colab": {
          "base_uri": "https://localhost:8080/"
        },
        "id": "He-JUZ6uoSFw",
        "outputId": "0d244018-4d61-470f-bd3c-11415e234749"
      },
      "outputs": [
        {
          "output_type": "stream",
          "name": "stdout",
          "text": [
            "Please Enter the the size of your T-Shirt: 12\n",
            "Enter the message to be displayed on the shirt: one\n",
            "Your T-shirt of size 12 has been printed with the message one. \n"
          ]
        }
      ],
      "source": [
        "def make_shirt(size, msg):    # defining a function with two parameters\n",
        "    print(                                         # the msg that will be printed upon calling the function\n",
        "        f'Your T-shirt of size {size} has been printed with the message {msg}. ')\n",
        "\n",
        " # now calling the function and taking the user's size and their desired message to be printed.\n",
        "make_shirt(int(input('Please Enter the the size of your T-Shirt: ')),\n",
        "           str(input('Enter the message to be displayed on the shirt: ')))"
      ]
    }
  ]
}