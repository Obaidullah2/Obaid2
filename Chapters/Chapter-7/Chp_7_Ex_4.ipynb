{
  "nbformat": 4,
  "nbformat_minor": 0,
  "metadata": {
    "colab": {
      "provenance": []
    },
    "kernelspec": {
      "name": "python3",
      "display_name": "Python 3"
    },
    "language_info": {
      "name": "python"
    }
  },
  "cells": [
    {
      "cell_type": "markdown",
      "source": [
        "Chapter7; Exercise:4"
      ],
      "metadata": {
        "id": "aakkfAqjp1i4"
      }
    },
    {
      "cell_type": "markdown",
      "source": [
        "Exercise 4: Large Shirts \n",
        "\n",
        "Modify the make_shirt() function so that shirts are large by default with a message that reads I love Python. Make a large shirt and a medium shirt with the default message, and a shirt of any size with a different message."
      ],
      "metadata": {
        "id": "h8fjChm0p1gJ"
      }
    },
    {
      "cell_type": "code",
      "execution_count": null,
      "metadata": {
        "colab": {
          "base_uri": "https://localhost:8080/"
        },
        "id": "aYZP1itYpzls",
        "outputId": "9d8db5a0-e66f-493e-d0a7-af69d29a946f"
      },
      "outputs": [
        {
          "output_type": "stream",
          "name": "stdout",
          "text": [
            "The size of the shirt is Large and the message on the shirt is I love Python.\n",
            "The size of the shirt is Large and the message on the shirt is s.\n",
            "The size of the shirt is L and the message on the shirt is The Champ!!.\n"
          ]
        }
      ],
      "source": [
        "def make_shirt(msg='I love Python', size='Large'):                      # defining  function and parameters that are having default values.\n",
        "    print('The size of the shirt is ' + size + ' and the message on the shirt is ' + msg  + '.')\n",
        "\n",
        "\n",
        "# calling the functions out now.\n",
        "make_shirt()\n",
        "make_shirt('s')\n",
        "make_shirt(size='L', msg='The Champ!!')"
      ]
    }
  ]
}