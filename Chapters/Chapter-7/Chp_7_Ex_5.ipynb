{
  "nbformat": 4,
  "nbformat_minor": 0,
  "metadata": {
    "colab": {
      "provenance": []
    },
    "kernelspec": {
      "name": "python3",
      "display_name": "Python 3"
    },
    "language_info": {
      "name": "python"
    }
  },
  "cells": [
    {
      "cell_type": "markdown",
      "source": [
        "Chapter7; Exercise:5\n"
      ],
      "metadata": {
        "id": "SVsQqeQws00e"
      }
    },
    {
      "cell_type": "markdown",
      "source": [
        "Exercise 5: Cities\n",
        "\n",
        "Write a function called describe_city() that accepts the name of a city and its country. The function should print a simple sentence,such as Reykjavik is in Iceland. Give the parameter for the country a default value.\n",
        "Call your function for three different cities, at least one of which is not in the default country."
      ],
      "metadata": {
        "id": "aFCPp_xhs03j"
      }
    },
    {
      "cell_type": "code",
      "execution_count": null,
      "metadata": {
        "colab": {
          "base_uri": "https://localhost:8080/"
        },
        "id": "BW28v4L6sx3t",
        "outputId": "e1b1d566-eddc-4bec-af9f-bf158e1db591"
      },
      "outputs": [
        {
          "output_type": "stream",
          "name": "stdout",
          "text": [
            "Peshawer is in Pakistan\n",
            "Quetta is in Pakistan\n",
            "Lahore is in Pakistan\n"
          ]
        }
      ],
      "source": [
        "# function is being defined.\n",
        "\n",
        "\n",
        "def describe_city(city, country='Pakistan'):\n",
        "    print(f'{city.title()} is in {country}')\n",
        "# function is now being called.\n",
        "describe_city('Peshawer')\n",
        "describe_city('Quetta')\n",
        "describe_city('Lahore')"
      ]
    }
  ]
}