{
  "nbformat": 4,
  "nbformat_minor": 0,
  "metadata": {
    "colab": {
      "provenance": []
    },
    "kernelspec": {
      "name": "python3",
      "display_name": "Python 3"
    },
    "language_info": {
      "name": "python"
    }
  },
  "cells": [
    {
      "cell_type": "markdown",
      "source": [
        "Chapter 4:CONTROL FLOW"
      ],
      "metadata": {
        "id": "5cVonFyHqGZr"
      }
    },
    {
      "cell_type": "markdown",
      "source": [
        "Exercise 1: Alien Colors #1 \n",
        "\n",
        "Imagine an alien was just shot down in a game. Create a variable called alien_color and assign it a value of 'green', 'yellow', or 'red'.\n",
        "\n",
        "\n",
        "•Write an if statement to test whether the alien’s color is green. If it is, print a message that the player just earned 5 points.\n",
        "\n",
        "\n",
        "•Write one version of this program that passes the if test and another that fails. (The version that fails will have no output.)"
      ],
      "metadata": {
        "id": "AhPA_JXDqGSr"
      }
    },
    {
      "cell_type": "code",
      "execution_count": null,
      "metadata": {
        "colab": {
          "base_uri": "https://localhost:8080/"
        },
        "id": "3Dd4a5wfqDm6",
        "outputId": "56a00151-aef5-4156-83ab-64817ed2ff9b"
      },
      "outputs": [
        {
          "output_type": "stream",
          "name": "stdout",
          "text": [
            "Congrats, you have earned 5 points.\n"
          ]
        }
      ],
      "source": [
        "# In this section, the condition is correct\n",
        "alien_color = 'green'\n",
        "\n",
        "if alien_color == 'green': print('Congrats, you have earned 5 points.')\n",
        "\n",
        "\n",
        "# In this section, the condtition is incorrect, so there wont't be any  output.\n",
        "alien_color = 'blue'\n",
        "\n",
        "if alien_color == 'green': print('Congrats, you have earned 5 points.')"
      ]
    }
  ]
}