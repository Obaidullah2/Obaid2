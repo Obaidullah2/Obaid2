{
  "nbformat": 4,
  "nbformat_minor": 0,
  "metadata": {
    "colab": {
      "provenance": []
    },
    "kernelspec": {
      "name": "python3",
      "display_name": "Python 3"
    },
    "language_info": {
      "name": "python"
    }
  },
  "cells": [
    {
      "cell_type": "markdown",
      "source": [
        "Chapter 4;Exercise:4"
      ],
      "metadata": {
        "id": "AengceLiuTd2"
      }
    },
    {
      "cell_type": "markdown",
      "source": [
        "Exercise 4: Stages of Life \n",
        "\n",
        "Write an if-elif-else chain that determines a person’s stage of life. Set a value for the variable age, and then:\n",
        "\n",
        "•If the person is less than 2 years old, print a message that the person is a baby.\n",
        "\n",
        "•If the person is at least 2 years old but less than 4, print a message that the person is a toddler.\n",
        "\n",
        "•If the person is at least 4 years old but less than 13, print a message that the person is a kid.\n",
        "\n",
        "•If the person is at least 13 years old but less than 20, print a message that the person is a teenager.\n",
        "\n",
        "•If the person is at least 20 years old but less than 65, print a message that the person is an adult.\n",
        "\n",
        "•If the person is age 65 or older, print a message that the person is an elder.\n",
        "\n",
        "   "
      ],
      "metadata": {
        "id": "vVF_DvqHuTYJ"
      }
    },
    {
      "cell_type": "code",
      "execution_count": null,
      "metadata": {
        "colab": {
          "base_uri": "https://localhost:8080/"
        },
        "id": "tptZ2Zx3uRW4",
        "outputId": "d2424ad1-b3f1-44a8-8597-3743574ae6af"
      },
      "outputs": [
        {
          "output_type": "stream",
          "name": "stdout",
          "text": [
            "Enter your age = \n",
            "5\n",
            "You are a kid\n"
          ]
        }
      ],
      "source": [
        "print('Enter your age = ')               # here the user is asked to enter their specific age.\n",
        "age = int(input())\n",
        "\n",
        "if age < 2:                                  # number of conditons in addition to that their output is based on the conditions provided.\n",
        "    print('You are an infant')\n",
        "\n",
        "elif age == 2 or age < 4:\n",
        "    print('You are a toddler')\n",
        "\n",
        "elif age == 4 or age < 13:\n",
        "    print('You are a kid')\n",
        "\n",
        "elif age == 13 or age < 20:\n",
        "    print('You are a teenager')\n",
        "\n",
        "elif age == 20 or age < 65:\n",
        "    print('You are an adult')\n",
        "\n",
        "else:\n",
        "    print('You are an elder')"
      ]
    }
  ]
}