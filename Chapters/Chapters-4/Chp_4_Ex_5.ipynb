{
  "nbformat": 4,
  "nbformat_minor": 0,
  "metadata": {
    "colab": {
      "provenance": []
    },
    "kernelspec": {
      "name": "python3",
      "display_name": "Python 3"
    },
    "language_info": {
      "name": "python"
    }
  },
  "cells": [
    {
      "cell_type": "markdown",
      "source": [
        "Chapter 4;Exercise:5"
      ],
      "metadata": {
        "id": "E8RB_vx1v1ve"
      }
    },
    {
      "cell_type": "markdown",
      "source": [
        "Exercise 5: Favorite Fruit \n",
        "\n",
        "Make a list of your favorite fruits, and then write a series of independent if statements that check for certain fruits in your list.\n",
        "\n",
        "•Make a list of your three favorite fruits and call it favorite_fruits.\n",
        "\n",
        "•Write five if statements. Each should check whether a certain kind of fruit is in your list. If the fruit is in your list, the if block should print a statement,such as You really like bananas!"
      ],
      "metadata": {
        "id": "LWfaUYhcv1oN"
      }
    },
    {
      "cell_type": "code",
      "execution_count": null,
      "metadata": {
        "colab": {
          "base_uri": "https://localhost:8080/"
        },
        "id": "DQEHfigqvwix",
        "outputId": "5090c352-9d84-4ed6-8ed6-d13bc17c5c60"
      },
      "outputs": [
        {
          "output_type": "stream",
          "name": "stdout",
          "text": [
            "bro, you love bananas.\n",
            "bro, you love figs.\n",
            "bro, you love guavas.\n"
          ]
        }
      ],
      "source": [
        "fav_fruits = ['banana', 'fig', 'guava'] #list of fruits\n",
        "\n",
        "if 'banana' in fav_fruits:              #adding statement with every fruits\n",
        "    print('bro, you love bananas.')\n",
        "\n",
        "if 'fig' in fav_fruits:\n",
        "    print('bro, you love figs.')\n",
        "\n",
        "if 'guava' in fav_fruits:\n",
        "    print('bro, you love guavas.')\n",
        "\n",
        "if 'pineapple' in fav_fruits:\n",
        "    print('bro, you love pineapples.')\n",
        "\n",
        "if 'grapes' in fav_fruits:\n",
        "    print('bro, you love grapes.')"
      ]
    }
  ]
}