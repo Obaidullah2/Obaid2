{
  "nbformat": 4,
  "nbformat_minor": 0,
  "metadata": {
    "colab": {
      "provenance": [],
      "collapsed_sections": [],
      "authorship_tag": "ABX9TyNkbevoHtA5I8F46E+wXsFP",
      "include_colab_link": true
    },
    "kernelspec": {
      "name": "python3",
      "display_name": "Python 3"
    },
    "language_info": {
      "name": "python"
    }
  },
  "cells": [
    {
      "cell_type": "markdown",
      "metadata": {
        "id": "view-in-github",
        "colab_type": "text"
      },
      "source": [
        "<a href=\"https://colab.research.google.com/github/Obaidullah2/Obaid2/blob/main/Chp_1_Ex_1.ipynb\" target=\"_parent\"><img src=\"https://colab.research.google.com/assets/colab-badge.svg\" alt=\"Open In Colab\"/></a>"
      ]
    },
    {
      "cell_type": "markdown",
      "source": [
        "CHAPTER 1:GETTING STARTED WITH PYTHON\n",
        "BASICS OF PYTHON"
      ],
      "metadata": {
        "id": "QLvi-5x4r9Wz"
      }
    },
    {
      "cell_type": "markdown",
      "source": [
        "Exercise 1: Print Strings \n",
        "Write a Python program.\n",
        "for example an english rhyme"
      ],
      "metadata": {
        "id": "UO_YZWP8phmL"
      }
    },
    {
      "cell_type": "code",
      "execution_count": null,
      "metadata": {
        "colab": {
          "base_uri": "https://localhost:8080/"
        },
        "id": "LrmHO-Zwq2HA",
        "outputId": "7fe04302-fab7-4b72-e865-22ef81ccd82a"
      },
      "outputs": [
        {
          "output_type": "stream",
          "name": "stdout",
          "text": [
            "my favourite english rhyme\n"
          ]
        }
      ],
      "source": [
        "print (\"my favourite english rhyme\") #print english rhyme"
      ]
    },
    {
      "cell_type": "code",
      "source": [
        "print(\"johnny johnny yes papa\")#print my favourite english rhyme\n",
        "print (\"eating sugar no papa\")\n",
        "print(\"telling lies no papa\")\n",
        "print(\"open your mouth hahaha\")"
      ],
      "metadata": {
        "colab": {
          "base_uri": "https://localhost:8080/"
        },
        "id": "LoFQEtF0rLno",
        "outputId": "a0709996-16e3-46cb-a6c1-08988722f01e"
      },
      "execution_count": null,
      "outputs": [
        {
          "output_type": "stream",
          "name": "stdout",
          "text": [
            "johnny johnny yes papa\n",
            "eating sugar no papa\n",
            "telling lies no papa\n",
            "open your mouth hahaha\n"
          ]
        }
      ]
    }
  ]
}